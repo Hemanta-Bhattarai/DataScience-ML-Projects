{
 "cells": [
  {
   "cell_type": "code",
   "execution_count": 1,
   "metadata": {},
   "outputs": [],
   "source": [
    "import tweepy as tw\n",
    "import pandas as pd\n",
    "import time\n",
    "import unicodecsv\n",
    "from tweepy import OAuthHandler\n",
    "import json\n",
    "import pickle\n",
    "import glob\n",
    "import os"
   ]
  },
  {
   "cell_type": "markdown",
   "metadata": {},
   "source": [
    "# Authenticate the Tweeter ID\n",
    "\n",
    "Keep your information about tweeter API ID in the file named key.dat. Is the json formatted file"
   ]
  },
  {
   "cell_type": "code",
   "execution_count": 2,
   "metadata": {},
   "outputs": [],
   "source": [
    "# reads json file key.dat to get the information about API ID\n",
    "with open(\"key.dat\",'r') as key:\n",
    "    key_source = key.read().replace('\\n','')\n",
    "key_dict = json.loads(str(key_source))"
   ]
  },
  {
   "cell_type": "code",
   "execution_count": 3,
   "metadata": {},
   "outputs": [],
   "source": [
    "# initializes the tweeter api informations\n",
    "consumer_key = key_dict[\"consumer_key\"]\n",
    "consumer_secret = key_dict[\"consumer_secret\"]\n",
    "access_token = key_dict[\"access_token\"]\n",
    "access_secret = key_dict[\"access_secret\"] \n",
    "auth = OAuthHandler(consumer_key, consumer_secret)\n",
    "auth.set_access_token(access_token, access_secret)\n",
    "api = tw.API(auth, wait_on_rate_limit=True)"
   ]
  },
  {
   "cell_type": "code",
   "execution_count": null,
   "metadata": {},
   "outputs": [],
   "source": [
    "# Decorator to print out the error message\n",
    "import pickle\n",
    "def safe_run(func):\n",
    "    def func_wrapper(*args, **kwargs):\n",
    "        try:\n",
    "            return func(*args, **kwargs)\n",
    "        except Exception as e:\n",
    "            print(e)\n",
    "   \n",
    "    return func_wrapper\n",
    "\n",
    "\n",
    "\n",
    "# function to save the friend list in a list using pickle. The extension for the file is *.ntwk\n",
    "\n",
    "@safe_run\n",
    "def getFriendsSaved(node,path,file_no):\n",
    "    outFileName = path+str(file_no)+\".ntwk\"\n",
    "    outFile = open(outFileName, 'wb')\n",
    "    ids_followers = []\n",
    "    for page in tw.Cursor(api.followers_ids, id = node).pages():\n",
    "        ids_followers.extend(page)\n",
    "        time.sleep(15)\n",
    "    ids_friends = []\n",
    "    for page in tw.Cursor(api.friends_ids, id = node).pages():\n",
    "        ids_friends.extend(page)\n",
    "        time.sleep(15)\n",
    "    two_way_friends = set(ids_followers).intersection(set(ids_friends))\n",
    "    two_way_friends_list = [node] + list(two_way_friends)\n",
    "    pickle.dump(two_way_friends_list, outFile)\n",
    "    outFile.close()\n",
    "\n",
    "    \n",
    "# function to open the friend list saved in *.ntwk file format\n",
    "@safe_run    \n",
    "def openFriendList(path,file_no):\n",
    "    inFileName = path+str(file_no)+\".ntwk\"\n",
    "    inFile = open(inFileName, 'rb')\n",
    "    friend_list = pickle.load(inFile)\n",
    "    inFile.close()\n",
    "    return friend_list[0],friend_list[1:]"
   ]
  },
  {
   "cell_type": "code",
   "execution_count": null,
   "metadata": {},
   "outputs": [],
   "source": [
    "#maximum number of nodes that you want in your network\n",
    "max_nodes = 100000  \n",
    "\n",
    "# username for a node in tweeter around which you are trying to create network\n",
    "# Here the default user_name is tweeter\n",
    "parent_node_username = \"tweeter\"\n",
    "\n",
    "user = api.get_user(screen_name = parent_node_username)\n",
    "parent_node = user.id\n",
    "# level of branches of friendship you are going to search\n",
    "max_branch = 6\n",
    "\n",
    "#output folder \n",
    "path = \"data/\"\n",
    "\n",
    "# for the first branch\n",
    "getFriendsSaved(parent_node, path, 1)\n",
    "node = parent_node\n",
    "nodeCount = 1\n",
    "nodeIndexInBranch = []\n",
    "\n",
    "friend_parent, friend_list = openFriendList(path,1 )\n",
    "\n",
    "for friends in friend_list:\n",
    "    nodeCount = nodeCount + 1\n",
    "    getFriendsSaved(friends, path, nodeCount)\n",
    "    print(\"%d file saved in %d branch.\"%(nodeCount, 1))\n",
    "nodeInBranch.append(nodeCount)\n",
    "\n",
    "nodeIndexInBranch.append(nodeCount)\n",
    "\n",
    "for count in range(5,max_branch + 1):\n",
    "    for branch in range(nodeIndexInBranch[count-2],nodeIndexInBranch[count-1]):\n",
    "        try:\n",
    "            friend_parent, friend_list = openFriendList(path, branch)\n",
    "            for friends in friend_list:\n",
    "                nodeCount = nodeCount + 1\n",
    "                try:\n",
    "                    print(\"%d file saved in %d branch.\"%(nodeCount, count))\n",
    "                    getFriendsSaved(friends, path, nodeCount)\n",
    "                except:\n",
    "                    continue\n",
    "        except:\n",
    "            continue\n",
    "            \n",
    "\n",
    "    nodesInBranch.append(nodeCount)\n",
    "    \n",
    "    if(nodeCount>=max_nodes):\n",
    "        print(\"Maximum nodes reached\")\n",
    "        sys.exit()\n",
    "        \n",
    "        \n",
    "        "
   ]
  },
  {
   "cell_type": "code",
   "execution_count": null,
   "metadata": {},
   "outputs": [],
   "source": []
  }
 ],
 "metadata": {
  "kernelspec": {
   "display_name": "Python 3",
   "language": "python",
   "name": "python3"
  },
  "language_info": {
   "codemirror_mode": {
    "name": "ipython",
    "version": 3
   },
   "file_extension": ".py",
   "mimetype": "text/x-python",
   "name": "python",
   "nbconvert_exporter": "python",
   "pygments_lexer": "ipython3",
   "version": "3.6.8"
  }
 },
 "nbformat": 4,
 "nbformat_minor": 2
}
