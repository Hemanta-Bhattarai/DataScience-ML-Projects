{
 "metadata": {
  "name": "",
  "signature": "sha256:3b779b4afc9b70e0c4ee5c150102f9416eaeae7d542a934bfabad97dfd7b7cda"
 },
 "nbformat": 3,
 "nbformat_minor": 0,
 "worksheets": [
  {
   "cells": [
    {
     "cell_type": "code",
     "collapsed": false,
     "input": [
      "# Programmer: Hemanta Bhattarai, Haowei Zhang\n",
      "# Institution: University of NotreDame\n",
      "\n",
      "#Program that determines the similarity matrix based on the cosine based similarity."
     ],
     "language": "python",
     "metadata": {},
     "outputs": []
    },
    {
     "cell_type": "markdown",
     "metadata": {},
     "source": [
      "The cosine based similarity matrix is defined as matrix where $i^{th}$ and $j^{th}$ element is given by $sim(i,j)$ and defined as\n",
      "\\begin{equation}\n",
      "    sim(i,j)=\\cos(\\vec{i},\\vec{j})=\\frac{\\vec{i}.\\vec{j}}{||\\vec{i}||||\\vec{j}||}\n",
      "\\end{equation}\n",
      "where \".\" denotes the dot-product of two vectors and ||.|| represents the norm of the vector.\n"
     ]
    },
    {
     "cell_type": "code",
     "collapsed": false,
     "input": [
      "#--------------------------------------------------------------------------------------------------------------------------------\n",
      "#import required libraries\n",
      "import matplotlib.pyplot as plt\n",
      "import numpy as num\n",
      "import pandas as pan\n",
      "\n",
      "\n",
      "\n",
      "#---------------------------------------------------------------------------------------------------------------------------------\n",
      "dataTrain=pan.DataFrame(pan.read_csv(\"small_train_set.csv\"))    #importing training set\n",
      "dataTrain=dataTrain.drop(dataTrain.columns[0],1)                #drop first column that is of no use\n",
      "\n",
      "\n",
      "\n",
      "\n",
      "\n",
      "\n",
      "#--------------------------------------------------------------------------------------------------------------------------------\n",
      "#data matrix, where the data of training set is transformed into matrix with rows as the userId and columns as the movie id and \n",
      "# entries of the matrix as the rating.\n",
      "# e.g dataMatrix[i,j]=r means, the rating given by user with userid \"i\" for movie with movieId \"j\" is \"r\".\n",
      "# the movie which hasn't been rated has default value 0\n",
      "#dataMatrix[userid,movieid]\n",
      "\n",
      "dataMatrix=num.ones(max(dataTrain[\"userId\"])*max(dataTrain[\"movieId\"]))\n",
      "dataMatrix[:]=num.NAN\n",
      "dataMatrix=dataMatrix.reshape(max(dataTrain[\"userId\"]),max(dataTrain[\"movieId\"]))\n",
      "for user in range(1,max(dataTrain[\"userId\"])+1):\n",
      "    for movie in dataTrain[dataTrain[\"userId\"]==user].movieId:\n",
      "                           dataMatrix[user-1,movie-1]=(dataTrain[(dataTrain[\"userId\"]==user) &(dataTrain[\"movieId\"]==movie)].ratings)\n",
      "dataMatrix=num.nan_to_num(dataMatrix)\n",
      "\n",
      "\n",
      "\n",
      "\n",
      "#-----------------------------------------------------------------------------------------------------------------------------------\n",
      "# #function that finds the sum_rate which is essential for the determination of cosine_based similarity\n",
      "# the sum rate is defined as \n",
      "#                   sumRate_{ij}=\\sum R_i R_j \n",
      "\n",
      "def sumRate(i,j,data):\n",
      "    return num.dot(data[:,i-1],data[:,j-1])\n",
      "\n",
      "\n",
      "\n",
      "\n",
      "#--------------------------------------------------------------------------------------------------------------------------------\n",
      "#function for the determination of the cosine based similarity\n",
      "#cosine based similariy is defined using above sumRate\n",
      "# cosine based similarity S_{ij} is given by\n",
      "#           S_{ij}=\\frac{sumRate_{ij}}{\\sqrt{sumRate_{ii}}*\\sqrt{sumRate_{jj}}}\n",
      "#Note: S_{ii}=1.\n",
      "def cosineBS(i,j,data):\n",
      "    return(sumRate(i,j,data)/num.sqrt(sumRate(i,i,data)*sumRate(j,j,data)))\n",
      "\n",
      "\n",
      "\n",
      "#-----------------------------------------------------------------------------------------------------------------------------------\n",
      "#Determination of cosine based similarity matrix and save the matrix in a file \"cosineBasedSimilarityFast.out\", the .out file contains \n",
      "# matrix having entries that defines the similarity between two movies.\n",
      "# eg. CosineBSM[i,j]=s_ij implies the similarity of movie with movie id \"i\" and \"j\" is \"s_ij\"\n",
      "#dimension of the similarity matrix\n",
      "n=max(dataTrain[\"movieId\"])\n",
      "cosineBSM=num.zeros(n*n).reshape(n,n)\n",
      "for i in range(n):\n",
      "    for j in range(i+1,n):\n",
      "        cosineBSM[i,j]=cosineBS(i+1,j+1,dataMatrix)\n",
      "        \n",
      "        \n",
      "cosineBSM=num.nan_to_num(cosineBSM)\n",
      "cosineBSM=cosineBSM+num.transpose(cosineBSM)+num.diag(num.ones(n))\n",
      "num.savetxt('cosineBasedSimilarityFast.out', cosineBSM) #similarity matrix saved as .out file\n",
      "        \n",
      " "
     ],
     "language": "python",
     "metadata": {},
     "outputs": [
      {
       "output_type": "stream",
       "stream": "stderr",
       "text": [
        "-c:54: RuntimeWarning: invalid value encountered in double_scalars\n"
       ]
      }
     ],
     "prompt_number": 2
    },
    {
     "cell_type": "code",
     "collapsed": false,
     "input": [],
     "language": "python",
     "metadata": {},
     "outputs": [],
     "prompt_number": 2
    },
    {
     "cell_type": "code",
     "collapsed": false,
     "input": [],
     "language": "python",
     "metadata": {},
     "outputs": []
    }
   ],
   "metadata": {}
  }
 ]
}