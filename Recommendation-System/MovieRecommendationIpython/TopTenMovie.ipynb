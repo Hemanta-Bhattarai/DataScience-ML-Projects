{
 "metadata": {
  "name": "",
  "signature": "sha256:7105f6ad0cbe15a770400b87b51ec57bd4475ddfe2f1724e27273b425a171f74"
 },
 "nbformat": 3,
 "nbformat_minor": 0,
 "worksheets": [
  {
   "cells": [
    {
     "cell_type": "code",
     "collapsed": false,
     "input": [
      "# Programmer: Hemanta Bhattarai, Haowei Zhang\n",
      "# Institution: University of NotreDame\n",
      "\n",
      "\n",
      "#Program that recommends top 10 movies for a given user with userId. \n",
      "\n",
      "\n",
      "\n",
      "#-------------------------------------------------------------------------------------------------------------------------\n",
      "#importing useful librarires\n",
      "import pandas as pan\n",
      "import numpy as num\n",
      "\n",
      "\n",
      "\n",
      "#--------------------------------------------------------------------------------------------------------------------------\n",
      "fileInput=\"small_train_set.csv\"   \n",
      "Matrix=[\"cosineBasedSimilarityFast.out\",\"correlatedBasedSimilarityFast.out\",\"adjustedCosineSimilarityFast.out\"]\n",
      "fileMatrix=Matrix[1]    #selecting the similarity matrix for prediction of ratings\n",
      "\n",
      "\n",
      "\n",
      "#number of most similar elemet taken during prediction\n",
      "mostSimilarnum=30     # number of neighbors taken for prediction\n",
      "dataFrame=pan.DataFrame(pan.read_csv(fileInput))\n",
      "dataFrame=dataFrame.drop(dataFrame.columns[0],1)\n",
      "\n",
      "print(\"\\n\\n\\n+++++++++++++++++++++++++++++++++++++++++++++++++\")\n",
      "print(\"Similarity Matrix and data file loaded\")"
     ],
     "language": "python",
     "metadata": {},
     "outputs": [
      {
       "output_type": "stream",
       "stream": "stdout",
       "text": [
        "\n",
        "\n",
        "\n",
        "+++++++++++++++++++++++++++++++++++++++++++++++++\n",
        "Similarity Matrix and data file loaded\n"
       ]
      }
     ],
     "prompt_number": 1
    },
    {
     "cell_type": "code",
     "collapsed": false,
     "input": [
      "#-------------------------------------------------------------------------------------------------------------------------------------\n",
      "#deterination of mean of the ratings for specified user i. \\bar{R_u}, where u\\epsilon U\n",
      "#mean[i]=\\frac{\\sum_{usr=i} ratings}{total number of item watched movie i}\n",
      "mean=num.zeros(max(dataFrame[\"userId\"]))\n",
      "for usr in range(1,max(dataFrame[\"userId\"])+1):\n",
      "    mean[usr-1]=num.mean(dataFrame[dataFrame[\"userId\"]==usr][\"ratings\"])\n",
      "\n",
      " \n",
      "    \n",
      "    \n",
      "    \n",
      "    \n",
      "#------------------------------------------------------------------------------------------------------------------------------------------------\n",
      "#data matrix, where the data of training set is transformed into matrix with rows as the userId and columns as the movie id and \n",
      "# entries of the matrix as the rating.\n",
      "# e.g dataMatrix[i,j]=r means, the rating given by user with userid \"i\" for movie with movieId \"j\" is \"r\".\n",
      "# the movie which hasn't been rated has default value 0\n",
      "#dataMatrix[userid,movieid]\n",
      "dataMatrix=num.ones(max(dataFrame[\"userId\"])*max(dataFrame[\"movieId\"])).reshape(max(dataFrame[\"userId\"]),max(dataFrame[\"movieId\"]))\n",
      "dataMatrix[:]=num.NAN\n",
      "ratingsOrginal=num.ones(max(dataFrame[\"userId\"])*max(dataFrame[\"movieId\"])).reshape(max(dataFrame[\"userId\"]),max(dataFrame[\"movieId\"]))\n",
      "ratingsOrginal[:]=num.NAN\n",
      "dataMatrix=dataMatrix.reshape(max(dataFrame[\"userId\"]),max(dataFrame[\"movieId\"]))\n",
      "for user in range(1,max(dataFrame[\"userId\"])+1):\n",
      "    for movie in dataFrame[dataFrame[\"userId\"]==user].movieId:\n",
      "        dataMatrix[user-1,movie-1]=(dataFrame[(dataFrame[\"userId\"]==user) &(dataFrame[\"movieId\"]==movie)].ratings-mean[usr-1])\n",
      "        #ratingsOrginal[user-1,movie-1]=dataFrame[(dataFrame[\"userId\"]==user) &(dataFrame[\"movieId\"]==movie)].ratings\n",
      "dataMatrix=num.nan_to_num(dataMatrix)\n",
      "ratingsOrginal=num.nan_to_num(ratingsOrginal)\n",
      "\n",
      "\n",
      "#scaled rating matrix of the training data from mean\n",
      "ratingMat=num.transpose(dataMatrix)\n",
      "print(\"\\n+++++++++++++++++++++++++++++++++++++++++++++++++\")\n",
      "print(\"Rating matrix generated\")"
     ],
     "language": "python",
     "metadata": {},
     "outputs": [
      {
       "output_type": "stream",
       "stream": "stdout",
       "text": [
        "\n",
        "+++++++++++++++++++++++++++++++++++++++++++++++++\n",
        "Rating matrix generated\n"
       ]
      }
     ],
     "prompt_number": 2
    },
    {
     "cell_type": "code",
     "collapsed": false,
     "input": [
      "#------------------------------------------------------------------------------------------------------------------------\n",
      "#rating prediciton calculations  \n",
      "\n",
      "simMat=num.loadtxt(fileMatrix) # similarity matrix\n",
      "\n",
      "#using only top most similar movie for the prediction calculations\n",
      "argSort=simMat.argsort()\n",
      "totalMovies=num.shape(simMat)[0]\n",
      "maxSimilarityMoviesConsidered=mostSimilarnum\n",
      "for var in range(totalMovies):\n",
      "    simMat[var][argSort[var,0:totalMovies-maxSimilarityMoviesConsidered]]=0\n",
      "\n",
      "    \n",
      "#sum of the similarity matrix for a movie i ie \\sum_i(abs(s_ij))\n",
      "sumSim=num.sum(num.abs(simMat),axis=0)\n",
      "\n",
      "#not normalized rating prediction P[i,j] is not normalized prediciton of user j to movie i\n",
      "nonNormalizedPrediction=num.matrix(simMat)*num.matrix(ratingMat)\n",
      "# normalized prediction without scaling by the mean\n",
      "NormalizedPrediction=num.divide(num.matrix(nonNormalizedPrediction),num.transpose(num.matrix(sumSim)))\n",
      "# determining the prediction matrix\n",
      "totalUsers=max(dataFrame[\"userId\"])\n",
      "totalMovies=max(dataFrame[\"movieId\"])\n",
      "matrixOfMeans=num.transpose(num.matrix(num.repeat(mean,totalMovies,axis=0)).reshape(totalUsers,totalMovies))\n",
      "ScaledPrediction=(matrixOfMeans+NormalizedPrediction)\n",
      "print(\"\\n+++++++++++++++++++++++++++++++++++++++++++++++++\")\n",
      "print(\"Prediction matrix generated\")"
     ],
     "language": "python",
     "metadata": {},
     "outputs": [
      {
       "output_type": "stream",
       "stream": "stdout",
       "text": [
        "\n",
        "+++++++++++++++++++++++++++++++++++++++++++++++++\n",
        "Prediction matrix generated\n"
       ]
      }
     ],
     "prompt_number": 3
    },
    {
     "cell_type": "code",
     "collapsed": false,
     "input": [
      "#---------------------------------------------------------------------------------------------------------\n",
      "#Top 10 movies selected\n",
      "user=raw_input(\"Enter the userId to whom movie is to be recommended 1-943\\n\")\n",
      "\n",
      "user=int(user)-1\n",
      "predictionsForUser=ScaledPrediction[:,user]\n",
      "topMovieIdForUser=num.argsort(predictionsForUser,axis=0)\n",
      "rec=topMovieIdForUser[-100:,:]\n",
      "rec=rec+1\n",
      "rec=rec[::-1]\n",
      "\n",
      "\n",
      "movieWatched=num.matrix(dataFrame[dataFrame[\"userId\"]==user].movieId)\n",
      "recommendation=[]\n",
      "for recommended in rec:\n",
      "    if recommended in movieWatched[:]:\n",
      "      continue;\n",
      "    else:\n",
      "        recommendation.append(recommended)\n",
      "        \n",
      "    if len(recommendation)==10:\n",
      "        break;\n",
      "            \n",
      "recommendation=num.array(recommendation)\n",
      "dataFrameMovie=pan.DataFrame(pan.read_csv(\"movies.csv\"))\n",
      "\n",
      "#list of movie recommended\n",
      "print\"++++++++++++++++++++++++++++++++++++++++++++++++++++++++++\"\n",
      "print \"The movies recommended for user with userId: \", user+1\n",
      "print\"++++++++++++++++++++++++++++++++++++++++++++++++++++++++++\\n\"\n",
      "count=1\n",
      "for element in recommendation:\n",
      "    print count,\":  \",dataFrameMovie.title[element[0][0]-1]\n",
      "    count=count+1\n",
      "print \"\\n++++++++++++++++++++++++++++++++++++++++++++++++++++++++\\n\\n\\n\""
     ],
     "language": "python",
     "metadata": {},
     "outputs": [
      {
       "name": "stdout",
       "output_type": "stream",
       "stream": "stdout",
       "text": [
        "Enter the userId to whom movie is to be recommended 1-943\n",
        "45\n"
       ]
      },
      {
       "output_type": "stream",
       "stream": "stdout",
       "text": [
        "++++++++++++++++++++++++++++++++++++++++++++++++++++++++++\n",
        "The movies recommended for user with userId:  45\n",
        "++++++++++++++++++++++++++++++++++++++++++++++++++++++++++\n",
        "\n",
        "1 :   Three Colors: Blue (Trois couleurs: Bleu) (1993)\n",
        "2 :   That Thing You Do! (1996)\n",
        "3 :   Toy Story (1995)\n",
        "4 :   Boomerang (1992)\n",
        "5 :   Mighty Aphrodite (1995)\n",
        "6 :   Gone with the Wind (1939)\n",
        "7 :   Seventh Seal, The (Sjunde inseglet, Det) (1957)\n",
        "8 :   If Lucy Fell (1996)\n",
        "9 :   Contempt (M\u00e9pris, Le) (1963)\n",
        "10 :   Santa Clause, The (1994)\n",
        "\n",
        "++++++++++++++++++++++++++++++++++++++++++++++++++++++++\n",
        "\n",
        "\n",
        "\n"
       ]
      }
     ],
     "prompt_number": 8
    },
    {
     "cell_type": "code",
     "collapsed": false,
     "input": [],
     "language": "python",
     "metadata": {},
     "outputs": []
    }
   ],
   "metadata": {}
  }
 ]
}