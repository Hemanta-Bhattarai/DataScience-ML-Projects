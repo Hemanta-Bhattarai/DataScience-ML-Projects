{
 "metadata": {
  "name": "",
  "signature": "sha256:0ed3f72d086a66b0600d1406705cc0053cad5b7aa3cd2a99effd26a0c9c955b7"
 },
 "nbformat": 3,
 "nbformat_minor": 0,
 "worksheets": [
  {
   "cells": [
    {
     "cell_type": "code",
     "collapsed": false,
     "input": [
      "# Programmer: Hemanta Bhattarai, Haowei Zhang\n",
      "# Institution: University of NotreDame\n",
      "\n",
      "\n",
      "#Program that determines the similarity matrix based on the Adjusted Cosine based similarity."
     ],
     "language": "python",
     "metadata": {},
     "outputs": []
    },
    {
     "cell_type": "markdown",
     "metadata": {},
     "source": [
      "The adjusted cosine based similarity matrix is defined as matrix where $i^{th}$ and $j^{th}$ element is given by $sim(i,j)$ and defined as\n",
      "\n",
      "\\begin{equation}\n",
      "    sim(i,j)=\\frac{\\sum_{u\\epsilon U}(R_{u,i}-\\bar{R_i})(R_{u,j}-\\bar{R_j})}{\\sqrt{\\sum_{u\\epsilon U}(R_{u,i}-\\bar{R_i})^2 }\\sqrt{\\sum_{u\\epsilon U}(R_{u,j}-\\bar{R_j})^2 }}\n",
      "\\end{equation}\n",
      "where the set of users who both rated i and j are denoted by U and $R_{u,i}$ denotes the rating of user $u$ on item $i$, $\\bar{R_i}$ is the average rating of the $i^{th}$ item."
     ]
    },
    {
     "cell_type": "code",
     "collapsed": false,
     "input": [
      "#-----------------------------------------------------------------------------------------------------------------------------------------------\n",
      "#import required libraries\n",
      "import matplotlib.pyplot as plt\n",
      "import numpy as num\n",
      "import pandas as pan\n",
      "\n",
      "\n",
      "#------------------------------------------------------------------------------------------------------------------------------------------------\n",
      "#import the training set for similarity matrix calculation\n",
      "dataTrain=pan.DataFrame(pan.read_csv(\"small_train_set.csv\"))\n",
      "dataTrain=dataTrain.drop(dataTrain.columns[0],1)\n",
      "\n",
      "\n",
      "\n",
      "#----------------------------------------------------------------------------------------------------------------------------------------------\n",
      "#deterination of mean of the ratings for specified user i. \\bar{R_u}, where u\\epsilon U\n",
      "#mean[i]=\\frac{\\sum_{usr=i} ratings}{total number of item watched movie i}\n",
      "mean=num.zeros(max(dataTrain[\"userId\"]))\n",
      "for usr in range(1,max(dataTrain[\"userId\"])+1):\n",
      "    mean[usr-1]=num.mean(dataTrain[dataTrain[\"userId\"]==usr][\"ratings\"])\n",
      "    \n",
      "\n",
      "\n",
      "    \n",
      "#------------------------------------------------------------------------------------------------------------------------------------------------\n",
      "#data matrix, where the data of training set is transformed into matrix with rows as the userId and columns as the movie id and \n",
      "# entries of the matrix as the rating.\n",
      "# e.g dataMatrix[i,j]=r means, the rating given by user with userid \"i\" for movie with movieId \"j\" is \"r\".\n",
      "# the movie which hasn't been rated has default value 0\n",
      "#dataMatrix[userid,movieid]\n",
      "\n",
      "dataMatrix=num.ones(max(dataTrain[\"userId\"])*max(dataTrain[\"movieId\"]))\n",
      "dataMatrix[:]=num.NAN\n",
      "dataMatrix=dataMatrix.reshape(max(dataTrain[\"userId\"]),max(dataTrain[\"movieId\"]))\n",
      "for user in range(1,max(dataTrain[\"userId\"])+1):\n",
      "    for movie in dataTrain[dataTrain[\"userId\"]==user].movieId:\n",
      "                           dataMatrix[user-1,movie-1]=(dataTrain[(dataTrain[\"userId\"]==user) &(dataTrain[\"movieId\"]==movie)].ratings)-mean[user-1]\n",
      "dataMatrix=num.nan_to_num(dataMatrix)\n",
      "\n",
      "\n",
      "\n",
      "\n",
      "#----------------------------------------------------------------------------------------------------------------------------------------------\n",
      "#function that finds the sum_rate which is essential for the determination of adjusted cosine_based similarity\n",
      "# the sum rate is defined as \n",
      "#                   sumRate_{ij}=\\sum_{u\\epsilon U} (R_{u,i}-\\bar{R_u})(R_{u,i}-\\bar{R_u) \n",
      "\n",
      "def sumRate(i,j,data):\n",
      "    return num.dot(data[:,i-1],data[:,j-1])\n",
      "\n",
      "\n",
      "\n",
      "#--------------------------------------------------------------------------------------------------------------------------------------------------\n",
      "#function for the determination of the adjusted cosine similarity\n",
      "#adjusted cosine similariy is defined using above sumRate\n",
      "# adjusted cosine similarity S_{ij} is given by\n",
      "#           S_{ij}=\\frac{sumRate_{ij}}{\\sqrt{sumRate_{ii}}*\\sqrt{sumRate_{jj}}}\n",
      "#Note: S_{ii}=1.\n",
      "def adjustedCosineBS(i,j,data):\n",
      "    return(sumRate(i,j,data)/num.sqrt(sumRate(i,i,data)*sumRate(j,j,data)))\n",
      "\n",
      "\n",
      "\n",
      "#-------------------------------------------------------------------------------------------------------------------------------------------------\n",
      "#Determination of adjusted cosine based similarity matrix and save the matrix in a file \"adjustedCosineBasedSimilarityFast.out\", the .out file contains \n",
      "# matrix having entries that defines the similarity between two movies.\n",
      "# eg. adjustedcosineBSM[i,j]=s_ij implies the similarity of movie with movie id \"i\" and \"j\" is \"s_ij\"\n",
      "#dimension of the similarity matrix\n",
      "n=max(dataTrain[\"movieId\"])\n",
      "adjustedcosineBSM=num.zeros(n*n).reshape(n,n)\n",
      "for i in range(n):\n",
      "    for j in range(i+1,n):\n",
      "        adjustedcosineBSM[i,j]=adjustedCosineBS(i+1,j+1,dataMatrix)\n",
      "        \n",
      "        \n",
      "adjustedcosineBSM=num.nan_to_num(adjustedcosineBSM)\n",
      "adjustedcosineBSM=adjustedcosineBSM+num.transpose(adjustedcosineBSM)+num.diag(num.ones(n))\n",
      "num.savetxt(\"adjustedCosineSimilarityFast.out\", adjustedcosineBSM)         "
     ],
     "language": "python",
     "metadata": {},
     "outputs": [
      {
       "output_type": "stream",
       "stream": "stderr",
       "text": [
        "-c:60: RuntimeWarning: invalid value encountered in double_scalars\n"
       ]
      }
     ],
     "prompt_number": 1
    },
    {
     "cell_type": "code",
     "collapsed": false,
     "input": [],
     "language": "python",
     "metadata": {},
     "outputs": [],
     "prompt_number": 4
    },
    {
     "cell_type": "code",
     "collapsed": false,
     "input": [],
     "language": "python",
     "metadata": {},
     "outputs": []
    }
   ],
   "metadata": {}
  }
 ]
}