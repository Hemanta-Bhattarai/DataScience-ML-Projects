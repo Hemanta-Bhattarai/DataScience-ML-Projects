{
 "cells": [
  {
   "cell_type": "code",
   "execution_count": 1,
   "metadata": {},
   "outputs": [],
   "source": [
    "import pandas as pd\n",
    "import matplotlib.pyplot as plt\n",
    "import numpy as np"
   ]
  },
  {
   "cell_type": "code",
   "execution_count": 2,
   "metadata": {},
   "outputs": [
    {
     "name": "stdout",
     "output_type": "stream",
     "text": [
      "Date in different format:\n",
      "# tweet_id |language|time_created|Retweet_Flag|Retweet_count|tweet|\n",
      "\n"
     ]
    }
   ],
   "source": [
    "infile = \"ishworpoudyalTweets1.csv\"\n",
    "fileIn = open(infile,'r')\n",
    "lines = fileIn.readlines()\n",
    "date = list()\n",
    "lang = list()\n",
    "retweet = list()\n",
    "retweet_count = list()\n",
    "tweet = list()\n",
    "for line in lines:\n",
    "    try:\n",
    "        lang.append(line.split(\"|\")[1])\n",
    "        date.append(line.split(\"|\")[2].split(\" \"))\n",
    "        retweet.append(line.split(\"|\")[3])\n",
    "        retweet_count.append(int(line.split(\"|\")[4]))\n",
    "        tweet.append(line.split(\"|\")[5])\n",
    "    except:\n",
    "        print(\"Date in different format:\")\n",
    "        print(line)\n"
   ]
  },
  {
   "cell_type": "markdown",
   "metadata": {},
   "source": [
    "# Analysis of temporal distribution of tweet"
   ]
  },
  {
   "cell_type": "code",
   "execution_count": 3,
   "metadata": {},
   "outputs": [],
   "source": [
    "dayInWeek = []\n",
    "month = []\n",
    "dayInMonth = []\n",
    "time_hr = []\n",
    "time_min = []\n",
    "time_sec = []\n",
    "year = []\n"
   ]
  },
  {
   "cell_type": "code",
   "execution_count": 4,
   "metadata": {},
   "outputs": [],
   "source": [
    "for dateInfo in date[1:]:\n",
    "    dayInWeek.append(dateInfo[0])\n",
    "    month.append(dateInfo[1])\n",
    "    dayInMonth.append(int(dateInfo[2]))\n",
    "    time_hr.append(int(dateInfo[3].split(\":\")[0]))\n",
    "    time_min.append(int(dateInfo[3].split(\":\")[1]))\n",
    "    time_sec.append(int(dateInfo[3].split(\":\")[2]))\n",
    "    year.append(int(dateInfo[5]))\n",
    "            "
   ]
  },
  {
   "cell_type": "code",
   "execution_count": 5,
   "metadata": {},
   "outputs": [],
   "source": [
    "def histogram(data):\n",
    "    elements_ = list(set(data))\n",
    "    histogram_ = {}\n",
    "    for element in elements_:\n",
    "        histogram_[element] = 0\n",
    "        \n",
    "        \n",
    "        \n",
    "    for element in data:\n",
    "        histogram_[element] += 1\n",
    "    return histogram_"
   ]
  },
  {
   "cell_type": "code",
   "execution_count": 6,
   "metadata": {},
   "outputs": [
    {
     "data": {
      "text/plain": [
       "{'Mon': 384,\n",
       " 'Fri': 439,\n",
       " 'Sun': 541,\n",
       " 'Thu': 465,\n",
       " 'Tue': 417,\n",
       " 'Sat': 533,\n",
       " 'Wed': 454}"
      ]
     },
     "execution_count": 6,
     "metadata": {},
     "output_type": "execute_result"
    }
   ],
   "source": [
    "histogram(dayInWeek)"
   ]
  },
  {
   "cell_type": "code",
   "execution_count": 7,
   "metadata": {},
   "outputs": [
    {
     "data": {
      "text/plain": [
       "{'May': 311,\n",
       " 'Jul': 287,\n",
       " 'Mar': 314,\n",
       " 'Apr': 338,\n",
       " 'Oct': 201,\n",
       " 'Dec': 279,\n",
       " 'Jun': 221,\n",
       " 'Jan': 339,\n",
       " 'Nov': 296,\n",
       " 'Aug': 164,\n",
       " 'Feb': 335,\n",
       " 'Sep': 148}"
      ]
     },
     "execution_count": 7,
     "metadata": {},
     "output_type": "execute_result"
    }
   ],
   "source": [
    "histogram(month)"
   ]
  },
  {
   "cell_type": "code",
   "execution_count": 8,
   "metadata": {},
   "outputs": [
    {
     "data": {
      "text/plain": [
       "{2016: 1021, 2017: 289, 2018: 260, 2019: 45, 2013: 300, 2014: 637, 2015: 681}"
      ]
     },
     "execution_count": 8,
     "metadata": {},
     "output_type": "execute_result"
    }
   ],
   "source": [
    "histogram(year)"
   ]
  },
  {
   "cell_type": "code",
   "execution_count": 9,
   "metadata": {},
   "outputs": [
    {
     "data": {
      "text/plain": [
       "{0: 109,\n",
       " 1: 195,\n",
       " 2: 249,\n",
       " 3: 349,\n",
       " 4: 241,\n",
       " 5: 179,\n",
       " 6: 90,\n",
       " 7: 24,\n",
       " 8: 23,\n",
       " 9: 21,\n",
       " 10: 30,\n",
       " 11: 63,\n",
       " 12: 70,\n",
       " 13: 187,\n",
       " 14: 242,\n",
       " 15: 244,\n",
       " 16: 285,\n",
       " 17: 178,\n",
       " 18: 110,\n",
       " 19: 49,\n",
       " 20: 72,\n",
       " 21: 79,\n",
       " 22: 55,\n",
       " 23: 89}"
      ]
     },
     "execution_count": 9,
     "metadata": {},
     "output_type": "execute_result"
    }
   ],
   "source": [
    "histogram(time_hr)"
   ]
  },
  {
   "cell_type": "code",
   "execution_count": 10,
   "metadata": {},
   "outputs": [],
   "source": [
    "df = pd.DataFrame(list(zip(dayInMonth,dayInWeek,year, time_hr, time_min, \\\n",
    "                           time_sec,lang[1:],retweet[1:],retweet_count[1:])),\\\n",
    "                  columns=[\"dayMonth\", \"dayWeek\", \"year\",\"HH\",\"MM\",\"SS\",\\\n",
    "                           \"Language\",\"Retweet_Flag\",\"Retweet_count\"])"
   ]
  },
  {
   "cell_type": "code",
   "execution_count": 11,
   "metadata": {},
   "outputs": [
    {
     "data": {
      "text/html": [
       "<div>\n",
       "<style scoped>\n",
       "    .dataframe tbody tr th:only-of-type {\n",
       "        vertical-align: middle;\n",
       "    }\n",
       "\n",
       "    .dataframe tbody tr th {\n",
       "        vertical-align: top;\n",
       "    }\n",
       "\n",
       "    .dataframe thead th {\n",
       "        text-align: right;\n",
       "    }\n",
       "</style>\n",
       "<table border=\"1\" class=\"dataframe\">\n",
       "  <thead>\n",
       "    <tr style=\"text-align: right;\">\n",
       "      <th></th>\n",
       "      <th>dayMonth</th>\n",
       "      <th>year</th>\n",
       "      <th>HH</th>\n",
       "      <th>MM</th>\n",
       "      <th>SS</th>\n",
       "      <th>Retweet_count</th>\n",
       "    </tr>\n",
       "  </thead>\n",
       "  <tbody>\n",
       "    <tr>\n",
       "      <th>count</th>\n",
       "      <td>3232.000000</td>\n",
       "      <td>3232.000000</td>\n",
       "      <td>3232.000000</td>\n",
       "      <td>3232.000000</td>\n",
       "      <td>3232.000000</td>\n",
       "      <td>3232.000000</td>\n",
       "    </tr>\n",
       "    <tr>\n",
       "      <th>mean</th>\n",
       "      <td>16.054765</td>\n",
       "      <td>2015.409653</td>\n",
       "      <td>10.157488</td>\n",
       "      <td>29.740408</td>\n",
       "      <td>29.629022</td>\n",
       "      <td>301.542079</td>\n",
       "    </tr>\n",
       "    <tr>\n",
       "      <th>std</th>\n",
       "      <td>8.599938</td>\n",
       "      <td>1.421376</td>\n",
       "      <td>6.953995</td>\n",
       "      <td>17.663427</td>\n",
       "      <td>17.202242</td>\n",
       "      <td>7231.454472</td>\n",
       "    </tr>\n",
       "    <tr>\n",
       "      <th>min</th>\n",
       "      <td>1.000000</td>\n",
       "      <td>2013.000000</td>\n",
       "      <td>0.000000</td>\n",
       "      <td>0.000000</td>\n",
       "      <td>0.000000</td>\n",
       "      <td>0.000000</td>\n",
       "    </tr>\n",
       "    <tr>\n",
       "      <th>25%</th>\n",
       "      <td>9.000000</td>\n",
       "      <td>2014.000000</td>\n",
       "      <td>3.000000</td>\n",
       "      <td>14.000000</td>\n",
       "      <td>15.000000</td>\n",
       "      <td>0.000000</td>\n",
       "    </tr>\n",
       "    <tr>\n",
       "      <th>50%</th>\n",
       "      <td>16.000000</td>\n",
       "      <td>2015.000000</td>\n",
       "      <td>12.000000</td>\n",
       "      <td>30.000000</td>\n",
       "      <td>30.000000</td>\n",
       "      <td>0.000000</td>\n",
       "    </tr>\n",
       "    <tr>\n",
       "      <th>75%</th>\n",
       "      <td>23.000000</td>\n",
       "      <td>2016.000000</td>\n",
       "      <td>16.000000</td>\n",
       "      <td>45.250000</td>\n",
       "      <td>44.000000</td>\n",
       "      <td>1.000000</td>\n",
       "    </tr>\n",
       "    <tr>\n",
       "      <th>max</th>\n",
       "      <td>31.000000</td>\n",
       "      <td>2019.000000</td>\n",
       "      <td>23.000000</td>\n",
       "      <td>59.000000</td>\n",
       "      <td>59.000000</td>\n",
       "      <td>384527.000000</td>\n",
       "    </tr>\n",
       "  </tbody>\n",
       "</table>\n",
       "</div>"
      ],
      "text/plain": [
       "          dayMonth         year           HH           MM           SS  \\\n",
       "count  3232.000000  3232.000000  3232.000000  3232.000000  3232.000000   \n",
       "mean     16.054765  2015.409653    10.157488    29.740408    29.629022   \n",
       "std       8.599938     1.421376     6.953995    17.663427    17.202242   \n",
       "min       1.000000  2013.000000     0.000000     0.000000     0.000000   \n",
       "25%       9.000000  2014.000000     3.000000    14.000000    15.000000   \n",
       "50%      16.000000  2015.000000    12.000000    30.000000    30.000000   \n",
       "75%      23.000000  2016.000000    16.000000    45.250000    44.000000   \n",
       "max      31.000000  2019.000000    23.000000    59.000000    59.000000   \n",
       "\n",
       "       Retweet_count  \n",
       "count    3232.000000  \n",
       "mean      301.542079  \n",
       "std      7231.454472  \n",
       "min         0.000000  \n",
       "25%         0.000000  \n",
       "50%         0.000000  \n",
       "75%         1.000000  \n",
       "max    384527.000000  "
      ]
     },
     "execution_count": 11,
     "metadata": {},
     "output_type": "execute_result"
    }
   ],
   "source": [
    "df.describe()"
   ]
  },
  {
   "cell_type": "code",
   "execution_count": 12,
   "metadata": {},
   "outputs": [
    {
     "name": "stdout",
     "output_type": "stream",
     "text": [
      "<class 'pandas.core.frame.DataFrame'>\n",
      "RangeIndex: 3232 entries, 0 to 3231\n",
      "Data columns (total 9 columns):\n",
      "dayMonth         3232 non-null int64\n",
      "dayWeek          3232 non-null object\n",
      "year             3232 non-null int64\n",
      "HH               3232 non-null int64\n",
      "MM               3232 non-null int64\n",
      "SS               3232 non-null int64\n",
      "Language         3232 non-null object\n",
      "Retweet_Flag     3232 non-null object\n",
      "Retweet_count    3232 non-null int64\n",
      "dtypes: int64(6), object(3)\n",
      "memory usage: 227.3+ KB\n"
     ]
    }
   ],
   "source": [
    "df.info()"
   ]
  },
  {
   "cell_type": "code",
   "execution_count": 13,
   "metadata": {},
   "outputs": [
    {
     "data": {
      "image/png": "[encoded data removed]",
      "text/plain": [
       "<Figure size 432x288 with 1 Axes>"
      ]
     },
     "metadata": {
      "needs_background": "light"
     },
     "output_type": "display_data"
    }
   ],
   "source": [
    "df.dayMonth.hist(bins=31)\n",
    "plt.show()"
   ]
  },
  {
   "cell_type": "code",
   "execution_count": 14,
   "metadata": {},
   "outputs": [
    {
     "data": {
      "text/plain": [
       "<matplotlib.axes._subplots.AxesSubplot at 0x7fd4211f86d8>"
      ]
     },
     "execution_count": 14,
     "metadata": {},
     "output_type": "execute_result"
    },
    {
     "data": {
      "image/png": "[encoded data removed]",
      "text/plain": [
       "<Figure size 432x288 with 1 Axes>"
      ]
     },
     "metadata": {
      "needs_background": "light"
     },
     "output_type": "display_data"
    }
   ],
   "source": [
    "df.year.hist()"
   ]
  },
  {
   "cell_type": "code",
   "execution_count": 15,
   "metadata": {},
   "outputs": [
    {
     "data": {
      "text/plain": [
       "{0: 109,\n",
       " 1: 195,\n",
       " 2: 249,\n",
       " 3: 349,\n",
       " 4: 241,\n",
       " 5: 179,\n",
       " 6: 90,\n",
       " 7: 24,\n",
       " 8: 23,\n",
       " 9: 21,\n",
       " 10: 30,\n",
       " 11: 63,\n",
       " 12: 70,\n",
       " 13: 187,\n",
       " 14: 242,\n",
       " 15: 244,\n",
       " 16: 285,\n",
       " 17: 178,\n",
       " 18: 110,\n",
       " 19: 49,\n",
       " 20: 72,\n",
       " 21: 79,\n",
       " 22: 55,\n",
       " 23: 89}"
      ]
     },
     "execution_count": 15,
     "metadata": {},
     "output_type": "execute_result"
    }
   ],
   "source": [
    "histogram(time_hr)"
   ]
  },
  {
   "cell_type": "code",
   "execution_count": 16,
   "metadata": {},
   "outputs": [
    {
     "data": {
      "image/png": "[encoded data removed]",
      "text/plain": [
       "<Figure size 432x288 with 1 Axes>"
      ]
     },
     "metadata": {
      "needs_background": "light"
     },
     "output_type": "display_data"
    }
   ],
   "source": [
    "df.HH.hist(bins=24)\n",
    "plt.xticks(range(0,24,2))\n",
    "plt.xlabel(\"Time of day (24hr)\")\n",
    "plt.ylabel(\"Number of tweets\")\n",
    "plt.savefig(\"ishowr_time.pdf\")\n",
    "plt.show()\n"
   ]
  },
  {
   "cell_type": "code",
   "execution_count": 17,
   "metadata": {},
   "outputs": [
    {
     "data": {
      "image/png": "[encoded data removed]",
      "text/plain": [
       "<Figure size 432x288 with 1 Axes>"
      ]
     },
     "metadata": {
      "needs_background": "light"
     },
     "output_type": "display_data"
    }
   ],
   "source": [
    "df.dayMonth.hist(bins=31)\n",
    "plt.xticks(range(0,31,2))\n",
    "plt.xlabel(\"Day in Month\")\n",
    "plt.ylabel(\"Number of tweets\")\n",
    "plt.savefig(\"ishwor_dayMonth.pdf\")\n",
    "plt.show()\n"
   ]
  },
  {
   "cell_type": "code",
   "execution_count": 24,
   "metadata": {},
   "outputs": [
    {
     "data": {
      "image/png": "[encoded data removed]",
      "text/plain": [
       "<Figure size 432x288 with 1 Axes>"
      ]
     },
     "metadata": {
      "needs_background": "light"
     },
     "output_type": "display_data"
    }
   ],
   "source": [
    "df[df.year>=2014].HH.hist(bins=24)\n",
    "plt.xticks(range(0,31,2))\n",
    "plt.show()"
   ]
  },
  {
   "cell_type": "code",
   "execution_count": 26,
   "metadata": {},
   "outputs": [
    {
     "data": {
      "image/png": "[encoded data removed]",
      "text/plain": [
       "<Figure size 432x288 with 1 Axes>"
      ]
     },
     "metadata": {
      "needs_background": "light"
     },
     "output_type": "display_data"
    }
   ],
   "source": [
    "df[df.year<2014].HH.hist(bins=24)\n",
    "plt.xticks(range(0,24,2))\n",
    "plt.show()"
   ]
  },
  {
   "cell_type": "code",
   "execution_count": null,
   "metadata": {},
   "outputs": [],
   "source": []
  }
 ],
 "metadata": {
  "kernelspec": {
   "display_name": "Python 3",
   "language": "python",
   "name": "python3"
  },
  "language_info": {
   "codemirror_mode": {
    "name": "ipython",
    "version": 3
   },
   "file_extension": ".py",
   "mimetype": "text/x-python",
   "name": "python",
   "nbconvert_exporter": "python",
   "pygments_lexer": "ipython3",
   "version": "3.6.8"
  }
 },
 "nbformat": 4,
 "nbformat_minor": 2
}
