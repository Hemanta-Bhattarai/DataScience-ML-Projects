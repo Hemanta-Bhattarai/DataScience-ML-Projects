{
 "cells": [
  {
   "cell_type": "code",
   "execution_count": 1,
   "metadata": {},
   "outputs": [],
   "source": [
    "import tweepy as tw\n",
    "import pandas as pd\n",
    "import time\n",
    "import unicodecsv\n",
    "from tweepy import OAuthHandler\n",
    "import json\n",
    " "
   ]
  },
  {
   "cell_type": "markdown",
   "metadata": {},
   "source": [
    "# Autenticate the tweeter id\n",
    "Keep your information about tweeter Api ID in the file named key.dat. It is the json formated file."
   ]
  },
  {
   "cell_type": "code",
   "execution_count": 2,
   "metadata": {},
   "outputs": [],
   "source": [
    "with open(\"key.dat\",'r') as key:\n",
    "    key_source = key.read().replace('\\n','')\n",
    "key_dict = json.loads(str(key_source))\n"
   ]
  },
  {
   "cell_type": "code",
   "execution_count": 3,
   "metadata": {},
   "outputs": [],
   "source": [
    "consumer_key = key_dict[\"consumer_key\"]\n",
    "consumer_secret = key_dict[\"consumer_secret\"]\n",
    "access_token = key_dict[\"access_token\"]\n",
    "access_secret = key_dict[\"access_secret\"] \n",
    "auth = OAuthHandler(consumer_key, consumer_secret)\n",
    "auth.set_access_token(access_token, access_secret)\n",
    " \n",
    "api = tw.API(auth)"
   ]
  },
  {
   "cell_type": "markdown",
   "metadata": {},
   "source": [
    "## Get the tweet and information about the tweets.\n",
    "### Enter appropriate user name and your file will be saved as @usernameTweets.csv\n",
    "The first line of the @usernameTweets.csv is commented by #\n",
    "\n",
    "Each column is separated by a pipe (|)\n",
    "\n",
    "The columns are \n",
    "\n",
    " tweet_id | language | time_created | Retweet_flag | Retweet_count | tweet |"
   ]
  },
  {
   "cell_type": "code",
   "execution_count": 4,
   "metadata": {},
   "outputs": [
    {
     "name": "stdout",
     "output_type": "stream",
     "text": [
      "Enter a valid Twitter screen name (@name)\n"
     ]
    },
    {
     "data": {
      "application/vnd.jupyter.widget-view+json": {
       "model_id": "ea949e63701a4bf39bbe3631237591ec",
       "version_major": 2,
       "version_minor": 0
      },
      "text/plain": [
       "Text(value='')"
      ]
     },
     "metadata": {},
     "output_type": "display_data"
    },
    {
     "name": "stdout",
     "output_type": "stream",
     "text": [
      "ram\n",
      "ram\n"
     ]
    }
   ],
   "source": [
    "from ipywidgets import widgets\n",
    "from IPython.display import display\n",
    "print(\"Enter a valid Twitter screen name (@name)\")\n",
    "text = widgets.Text()\n",
    "display(text)\n",
    "\n",
    "def handle_submit(sender):\n",
    "     print(text.value)\n",
    "text.on_submit(handle_submit)"
   ]
  },
  {
   "cell_type": "code",
   "execution_count": 5,
   "metadata": {},
   "outputs": [],
   "source": [
    "userid = text.value\n",
    "outFile = open(userid +'Tweets.csv','w')\n",
    "writer = unicodecsv.writer(outFile,dialect='excel')"
   ]
  },
  {
   "cell_type": "code",
   "execution_count": 6,
   "metadata": {},
   "outputs": [],
   "source": [
    "\n",
    "outFile.write(\"# tweet_id |language|time_created|Retweet_Flag|Retweet_count|tweet|\\n\")\n",
    "count =0\n",
    "while True:\n",
    "    try:\n",
    "        if count == 0:\n",
    "            statusList = api.user_timeline(id = userid,count = 200, tweet_mode = 'extended')\n",
    "        else:\n",
    "            statusList = api.user_timeline(id = userid,count = 200, max_id = lastTweetId, tweet_mode= 'extended')\n",
    "    except:\n",
    "        print(\"Error: %s tweeter account or tweets not found.\"%(text.value))\n",
    "    for theStatus in statusList:\n",
    "        statusData = []\n",
    "        statusDict = theStatus._json\n",
    "        statusData.append(statusDict.get('id_str'))\n",
    "        statusData.append(statusDict.get('lang'))\n",
    "        statusData.append(statusDict.get('created_at'))\n",
    "        statusData.append(str(statusDict.get('retweeted')))\n",
    "        statusData.append(str(statusDict.get('retweet_count')))\n",
    "        if(statusDict.get('retweeted') != 0):\n",
    "            statusData.append(statusDict.get('retweeted_status').get('full_text').replace('\\n',''))\n",
    "        else:\n",
    "            statusData.append(statusDict.get('full_text').replace('\\n',''))\n",
    "\n",
    "\n",
    "            \n",
    "        \n",
    "\n",
    "        statusData.append(\"\\n\")\n",
    "        joinedString = \"|\".join(statusData)\n",
    "        outFile.write(joinedString)\n",
    "\n",
    "        #writer.writerow(statusData)\n",
    "        \n",
    "    if len(statusList) == 1:\n",
    "        break\n",
    "    lastTweet = statusList[-1]\n",
    "    lastDict = lastTweet._json\n",
    "    lastTweetId = lastDict.get('id_str')\n",
    "    time.sleep(2)\n",
    "    count += 1\n",
    "outFile.close()\n",
    "        "
   ]
  },
  {
   "cell_type": "code",
   "execution_count": null,
   "metadata": {},
   "outputs": [],
   "source": []
  },
  {
   "cell_type": "code",
   "execution_count": null,
   "metadata": {},
   "outputs": [],
   "source": []
  },
  {
   "cell_type": "code",
   "execution_count": null,
   "metadata": {},
   "outputs": [],
   "source": []
  }
 ],
 "metadata": {
  "anaconda-cloud": {},
  "kernelspec": {
   "display_name": "Python 3",
   "language": "python",
   "name": "python3"
  },
  "language_info": {
   "codemirror_mode": {
    "name": "ipython",
    "version": 3
   },
   "file_extension": ".py",
   "mimetype": "text/x-python",
   "name": "python",
   "nbconvert_exporter": "python",
   "pygments_lexer": "ipython3",
   "version": "3.6.8"
  }
 },
 "nbformat": 4,
 "nbformat_minor": 1
}
