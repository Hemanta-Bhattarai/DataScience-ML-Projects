{
 "cells": [
  {
   "cell_type": "code",
   "execution_count": 2,
   "metadata": {},
   "outputs": [],
   "source": [
    "import numpy as num\n",
    "import pylab as lab\n",
    "import pandas as pan\n",
    "%matplotlib inline"
   ]
  },
  {
   "cell_type": "code",
   "execution_count": 3,
   "metadata": {},
   "outputs": [
    {
     "data": {
      "text/plain": [
       "(array([['sunny', 'hot', 'high', False, 'no'],\n",
       "        ['sunny', 'hot', 'high', True, 'no'],\n",
       "        ['overcast', 'hot', 'high', False, 'yes'],\n",
       "        ['rainy', 'mild', 'high', False, 'yes'],\n",
       "        ['rainy', 'cool', 'normal', False, 'yes'],\n",
       "        ['rainy', 'cool', 'normal', True, 'no'],\n",
       "        ['overcast', 'cool', 'normal', True, 'yes'],\n",
       "        ['sunny', 'mild', 'high', False, 'no'],\n",
       "        ['sunny', 'cool', 'normal', False, 'yes'],\n",
       "        ['rainy', 'mild', 'normal', False, 'yes'],\n",
       "        ['sunny', 'mild', 'normal', True, 'yes'],\n",
       "        ['overcast', 'mild', 'high', True, 'yes'],\n",
       "        ['overcast', 'hot', 'normal', False, 'yes'],\n",
       "        ['rainy', 'mild', 'high', True, 'no']], dtype=object), (14, 5))"
      ]
     },
     "execution_count": 3,
     "metadata": {},
     "output_type": "execute_result"
    }
   ],
   "source": [
    "data=pan.read_csv(\"../golf.csv\")\n",
    "data=num.array(data)\n",
    "data,data.shape"
   ]
  },
  {
   "cell_type": "code",
   "execution_count": 4,
   "metadata": {},
   "outputs": [],
   "source": [
    "def feature_names(data):\n",
    "    m,n=num.shape(data)\n",
    "    names=[]\n",
    "    for count in range(n):\n",
    "        example=[]\n",
    "        for feature in data[:,count]:\n",
    "            if not(feature in example):\n",
    "                example.append(feature)\n",
    "        names.append(example)\n",
    "    return(names)"
   ]
  },
  {
   "cell_type": "code",
   "execution_count": 5,
   "metadata": {},
   "outputs": [
    {
     "data": {
      "text/plain": [
       "[['sunny', 'overcast', 'rainy'],\n",
       " ['hot', 'mild', 'cool'],\n",
       " ['high', 'normal'],\n",
       " [False, True],\n",
       " ['no', 'yes']]"
      ]
     },
     "execution_count": 5,
     "metadata": {},
     "output_type": "execute_result"
    }
   ],
   "source": [
    "namelist=feature_names(data)\n",
    "namelist"
   ]
  },
  {
   "cell_type": "markdown",
   "metadata": {},
   "source": []
  },
  {
   "cell_type": "code",
   "execution_count": 6,
   "metadata": {},
   "outputs": [],
   "source": [
    "def count_name(data,col,name):\n",
    "    count=0\n",
    "    for names in data[:,col]:\n",
    "        if name==names:\n",
    "            count=count+1\n",
    "    return count"
   ]
  },
  {
   "cell_type": "code",
   "execution_count": 7,
   "metadata": {},
   "outputs": [
    {
     "data": {
      "text/plain": [
       "9"
      ]
     },
     "execution_count": 7,
     "metadata": {},
     "output_type": "execute_result"
    }
   ],
   "source": [
    "count_name(data,4,'yes')"
   ]
  },
  {
   "cell_type": "code",
   "execution_count": 8,
   "metadata": {},
   "outputs": [],
   "source": [
    "def entropy(data,feature_list):\n",
    "    m,n=data.shape\n",
    "    entropy_val=0\n",
    "    for name in feature_list[n-1]:\n",
    "        countN=count_name(data,n-1,name)\n",
    "        if countN==0:\n",
    "            continue;\n",
    "        prop=float(countN)/m\n",
    "        entropy_val=entropy_val+(-prop*num.log2(prop))\n",
    "    return entropy_val\n",
    "    "
   ]
  },
  {
   "cell_type": "code",
   "execution_count": 9,
   "metadata": {},
   "outputs": [
    {
     "name": "stdout",
     "output_type": "stream",
     "text": [
      "0.9402859586706311\n"
     ]
    }
   ],
   "source": [
    "en=entropy(data,namelist)\n",
    "print(en)"
   ]
  },
  {
   "cell_type": "code",
   "execution_count": 10,
   "metadata": {},
   "outputs": [],
   "source": [
    "def split_data(data,col,feature_list):\n",
    "    name_list=feature_list[col]\n",
    "    output_split=[]\n",
    "    for name in name_list:\n",
    "        split_temp=[]\n",
    "        for data_item in data:\n",
    "            if(name in data_item):\n",
    "                split_temp.append(data_item)\n",
    "        split_temp=num.array(split_temp)\n",
    "        output_split.append(split_temp)\n",
    "    return num.array(output_split)"
   ]
  },
  {
   "cell_type": "code",
   "execution_count": 11,
   "metadata": {},
   "outputs": [
    {
     "data": {
      "text/plain": [
       "array([array([['sunny', 'hot', 'high', False, 'no'],\n",
       "       ['sunny', 'hot', 'high', True, 'no'],\n",
       "       ['overcast', 'hot', 'high', False, 'yes'],\n",
       "       ['overcast', 'hot', 'normal', False, 'yes']], dtype=object),\n",
       "       array([['rainy', 'mild', 'high', False, 'yes'],\n",
       "       ['sunny', 'mild', 'high', False, 'no'],\n",
       "       ['rainy', 'mild', 'normal', False, 'yes'],\n",
       "       ['sunny', 'mild', 'normal', True, 'yes'],\n",
       "       ['overcast', 'mild', 'high', True, 'yes'],\n",
       "       ['rainy', 'mild', 'high', True, 'no']], dtype=object),\n",
       "       array([['rainy', 'cool', 'normal', False, 'yes'],\n",
       "       ['rainy', 'cool', 'normal', True, 'no'],\n",
       "       ['overcast', 'cool', 'normal', True, 'yes'],\n",
       "       ['sunny', 'cool', 'normal', False, 'yes']], dtype=object)],\n",
       "      dtype=object)"
      ]
     },
     "execution_count": 11,
     "metadata": {},
     "output_type": "execute_result"
    }
   ],
   "source": [
    "splited=split_data(data,1,namelist)\n",
    "splited"
   ]
  },
  {
   "cell_type": "code",
   "execution_count": 12,
   "metadata": {},
   "outputs": [],
   "source": [
    "def IG(data,col):\n",
    "    M,n=data.shape\n",
    "    feature_list=feature_names(data)\n",
    "    en=entropy(data,feature_list)\n",
    "    splitted_data=split_data(data,col,feature_list)\n",
    "    E=0\n",
    "    for item in splitted_data:\n",
    "        item=num.array(item)\n",
    "        m,n=num.shape(item)\n",
    "        prop=float(m)/M\n",
    "        E=E+prop*entropy(item,feature_list)\n",
    "    return en-E\n",
    "        "
   ]
  },
  {
   "cell_type": "code",
   "execution_count": 13,
   "metadata": {},
   "outputs": [
    {
     "data": {
      "text/plain": [
       "0.24674981977443933"
      ]
     },
     "execution_count": 13,
     "metadata": {},
     "output_type": "execute_result"
    }
   ],
   "source": [
    "IG(data,0)"
   ]
  },
  {
   "cell_type": "code",
   "execution_count": 14,
   "metadata": {},
   "outputs": [
    {
     "data": {
      "text/plain": [
       "0.9182958340544896"
      ]
     },
     "execution_count": 14,
     "metadata": {},
     "output_type": "execute_result"
    }
   ],
   "source": [
    "entropy(splited[1],namelist)"
   ]
  },
  {
   "cell_type": "code",
   "execution_count": 15,
   "metadata": {},
   "outputs": [
    {
     "data": {
      "text/plain": [
       "2"
      ]
     },
     "execution_count": 15,
     "metadata": {},
     "output_type": "execute_result"
    }
   ],
   "source": [
    "count_name(splited[1],4,'no')"
   ]
  },
  {
   "cell_type": "code",
   "execution_count": 16,
   "metadata": {},
   "outputs": [],
   "source": [
    "def decisionTree(data):\n",
    "    m,n=data.shape\n",
    "    list_name=feature_names(data)\n",
    "    out_list=[]\n",
    "    entropyD=entropy(data,list_name)\n",
    "    if(entropyD==0):\n",
    "        name=data[m-1,n-1]\n",
    "        count=count_name(data,n-1,name)\n",
    "        out_list.append(\"Halt\")\n",
    "        out_list.append(name)\n",
    "        #out_list.append(count)\n",
    "        #return(out_list)\n",
    "    else:\n",
    "        feat=-1\n",
    "        temp=-1\n",
    "        for number in range(n-1):\n",
    "            in_gain=IG(data,number)\n",
    "            if(in_gain !=0 and in_gain > temp):\n",
    "                feat=number\n",
    "                temp=in_gain\n",
    "        #out_list.append(feat)\n",
    "        data_list=split_data(data,feat,list_name)\n",
    "        for data1 in data_list:\n",
    "            list2=[]\n",
    "            list2.append(data1[0][feat])\n",
    "            list2.append(decisionTree(data1))\n",
    "            out_list.append(list2)\n",
    "    return out_list\n",
    "            \n",
    "    \n",
    "    \n"
   ]
  },
  {
   "cell_type": "code",
   "execution_count": 19,
   "metadata": {},
   "outputs": [],
   "source": [
    "decisionList=decisionTree(data)"
   ]
  },
  {
   "cell_type": "code",
   "execution_count": 20,
   "metadata": {},
   "outputs": [
    {
     "data": {
      "text/plain": [
       "[['sunny', [['high', ['Halt', 'no']], ['normal', ['Halt', 'yes']]]],\n",
       " ['overcast', ['Halt', 'yes']],\n",
       " ['rainy', [[False, ['Halt', 'yes']], [True, ['Halt', 'no']]]]]"
      ]
     },
     "execution_count": 20,
     "metadata": {},
     "output_type": "execute_result"
    }
   ],
   "source": [
    "decisionList"
   ]
  },
  {
   "cell_type": "code",
   "execution_count": null,
   "metadata": {},
   "outputs": [],
   "source": []
  },
  {
   "cell_type": "code",
   "execution_count": null,
   "metadata": {},
   "outputs": [],
   "source": []
  },
  {
   "cell_type": "code",
   "execution_count": null,
   "metadata": {},
   "outputs": [],
   "source": []
  },
  {
   "cell_type": "code",
   "execution_count": null,
   "metadata": {},
   "outputs": [],
   "source": []
  }
 ],
 "metadata": {
  "kernelspec": {
   "display_name": "Python [default]",
   "language": "python",
   "name": "python3"
  },
  "language_info": {
   "codemirror_mode": {
    "name": "ipython",
    "version": 3
   },
   "file_extension": ".py",
   "mimetype": "text/x-python",
   "name": "python",
   "nbconvert_exporter": "python",
   "pygments_lexer": "ipython3",
   "version": "3.5.6"
  }
 },
 "nbformat": 4,
 "nbformat_minor": 2
}
